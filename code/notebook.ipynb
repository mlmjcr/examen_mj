{
 "cells": [
  {
   "cell_type": "code",
   "execution_count": 30,
   "metadata": {},
   "outputs": [],
   "source": [
    "import pandas as pd\n",
    "import seaborn as sns"
   ]
  },
  {
   "cell_type": "code",
   "execution_count": 15,
   "metadata": {},
   "outputs": [
    {
     "name": "stdout",
     "output_type": "stream",
     "text": [
      "(1000, 3)\n"
     ]
    },
    {
     "data": {
      "text/html": [
       "<div>\n",
       "<style scoped>\n",
       "    .dataframe tbody tr th:only-of-type {\n",
       "        vertical-align: middle;\n",
       "    }\n",
       "\n",
       "    .dataframe tbody tr th {\n",
       "        vertical-align: top;\n",
       "    }\n",
       "\n",
       "    .dataframe thead th {\n",
       "        text-align: right;\n",
       "    }\n",
       "</style>\n",
       "<table border=\"1\" class=\"dataframe\">\n",
       "  <thead>\n",
       "    <tr style=\"text-align: right;\">\n",
       "      <th></th>\n",
       "      <th>TS</th>\n",
       "      <th>Tag</th>\n",
       "      <th>Value</th>\n",
       "    </tr>\n",
       "  </thead>\n",
       "  <tbody>\n",
       "    <tr>\n",
       "      <th>0</th>\n",
       "      <td>2024-01-01</td>\n",
       "      <td>Examen_Nimrod</td>\n",
       "      <td>67.353493</td>\n",
       "    </tr>\n",
       "    <tr>\n",
       "      <th>1</th>\n",
       "      <td>2024-01-01</td>\n",
       "      <td>Examen_Luis</td>\n",
       "      <td>3.222802</td>\n",
       "    </tr>\n",
       "    <tr>\n",
       "      <th>2</th>\n",
       "      <td>2024-01-01</td>\n",
       "      <td>Examen_MariaJose</td>\n",
       "      <td>74.931149</td>\n",
       "    </tr>\n",
       "    <tr>\n",
       "      <th>3</th>\n",
       "      <td>2024-01-01</td>\n",
       "      <td>Examen_Nicolas</td>\n",
       "      <td>51.593694</td>\n",
       "    </tr>\n",
       "    <tr>\n",
       "      <th>4</th>\n",
       "      <td>2024-01-01</td>\n",
       "      <td>Examen_Kailei</td>\n",
       "      <td>52.420169</td>\n",
       "    </tr>\n",
       "  </tbody>\n",
       "</table>\n",
       "</div>"
      ],
      "text/plain": [
       "           TS               Tag      Value\n",
       "0  2024-01-01     Examen_Nimrod  67.353493\n",
       "1  2024-01-01       Examen_Luis   3.222802\n",
       "2  2024-01-01  Examen_MariaJose  74.931149\n",
       "3  2024-01-01    Examen_Nicolas  51.593694\n",
       "4  2024-01-01     Examen_Kailei  52.420169"
      ]
     },
     "execution_count": 15,
     "metadata": {},
     "output_type": "execute_result"
    }
   ],
   "source": [
    "data = pd.read_csv('../data/datos_examen.csv')\n",
    "print(data.shape)\n",
    "data.head()"
   ]
  },
  {
   "cell_type": "code",
   "execution_count": 8,
   "metadata": {},
   "outputs": [
    {
     "data": {
      "text/plain": [
       "TS        object\n",
       "Tag       object\n",
       "Value    float64\n",
       "dtype: object"
      ]
     },
     "execution_count": 8,
     "metadata": {},
     "output_type": "execute_result"
    }
   ],
   "source": [
    "data.dtypes"
   ]
  },
  {
   "cell_type": "code",
   "execution_count": 14,
   "metadata": {},
   "outputs": [
    {
     "data": {
      "text/plain": [
       "Index(['TS', 'Tag', 'Value'], dtype='object')"
      ]
     },
     "execution_count": 14,
     "metadata": {},
     "output_type": "execute_result"
    }
   ],
   "source": [
    "data.columns"
   ]
  },
  {
   "cell_type": "code",
   "execution_count": 29,
   "metadata": {},
   "outputs": [
    {
     "data": {
      "text/html": [
       "<div>\n",
       "<style scoped>\n",
       "    .dataframe tbody tr th:only-of-type {\n",
       "        vertical-align: middle;\n",
       "    }\n",
       "\n",
       "    .dataframe tbody tr th {\n",
       "        vertical-align: top;\n",
       "    }\n",
       "\n",
       "    .dataframe thead th {\n",
       "        text-align: right;\n",
       "    }\n",
       "</style>\n",
       "<table border=\"1\" class=\"dataframe\">\n",
       "  <thead>\n",
       "    <tr style=\"text-align: right;\">\n",
       "      <th></th>\n",
       "      <th>TS</th>\n",
       "      <th>Tag</th>\n",
       "      <th>Value</th>\n",
       "    </tr>\n",
       "  </thead>\n",
       "  <tbody>\n",
       "    <tr>\n",
       "      <th>2</th>\n",
       "      <td>2024-01-01</td>\n",
       "      <td>Examen_MariaJose</td>\n",
       "      <td>74.931149</td>\n",
       "    </tr>\n",
       "    <tr>\n",
       "      <th>19</th>\n",
       "      <td>2024-01-02</td>\n",
       "      <td>Examen_MariaJose</td>\n",
       "      <td>59.039579</td>\n",
       "    </tr>\n",
       "    <tr>\n",
       "      <th>36</th>\n",
       "      <td>2024-01-03</td>\n",
       "      <td>Examen_MariaJose</td>\n",
       "      <td>81.574848</td>\n",
       "    </tr>\n",
       "    <tr>\n",
       "      <th>53</th>\n",
       "      <td>2024-01-04</td>\n",
       "      <td>Examen_MariaJose</td>\n",
       "      <td>84.028667</td>\n",
       "    </tr>\n",
       "    <tr>\n",
       "      <th>70</th>\n",
       "      <td>2024-01-05</td>\n",
       "      <td>Examen_MariaJose</td>\n",
       "      <td>34.539662</td>\n",
       "    </tr>\n",
       "  </tbody>\n",
       "</table>\n",
       "</div>"
      ],
      "text/plain": [
       "            TS               Tag      Value\n",
       "2   2024-01-01  Examen_MariaJose  74.931149\n",
       "19  2024-01-02  Examen_MariaJose  59.039579\n",
       "36  2024-01-03  Examen_MariaJose  81.574848\n",
       "53  2024-01-04  Examen_MariaJose  84.028667\n",
       "70  2024-01-05  Examen_MariaJose  34.539662"
      ]
     },
     "execution_count": 29,
     "metadata": {},
     "output_type": "execute_result"
    }
   ],
   "source": [
    "examen_majo = data[data['Tag']=='Examen_MariaJose']\n",
    "examen_majo.head()"
   ]
  },
  {
   "cell_type": "code",
   "execution_count": 51,
   "metadata": {},
   "outputs": [
    {
     "data": {
      "text/plain": [
       "48.526734823998495"
      ]
     },
     "execution_count": 51,
     "metadata": {},
     "output_type": "execute_result"
    }
   ],
   "source": [
    "examen_majo['Value'].mean()"
   ]
  },
  {
   "cell_type": "code",
   "execution_count": 33,
   "metadata": {},
   "outputs": [
    {
     "name": "stderr",
     "output_type": "stream",
     "text": [
      "/var/folders/cn/tfb7cbm916j38szxqrrz82b00000gn/T/ipykernel_35272/2351281562.py:1: SettingWithCopyWarning: \n",
      "A value is trying to be set on a copy of a slice from a DataFrame.\n",
      "Try using .loc[row_indexer,col_indexer] = value instead\n",
      "\n",
      "See the caveats in the documentation: https://pandas.pydata.org/pandas-docs/stable/user_guide/indexing.html#returning-a-view-versus-a-copy\n",
      "  examen_majo['TS'] = pd.to_datetime(examen_majo['TS'])\n"
     ]
    }
   ],
   "source": [
    "examen_majo['TS'] = pd.to_datetime(examen_majo['TS'])"
   ]
  },
  {
   "cell_type": "code",
   "execution_count": 34,
   "metadata": {},
   "outputs": [
    {
     "data": {
      "text/plain": [
       "<Axes: xlabel='TS', ylabel='Value'>"
      ]
     },
     "execution_count": 34,
     "metadata": {},
     "output_type": "execute_result"
    },
    {
     "data": {
      "image/png": "[encoded data removed]",
      "text/plain": [
       "<Figure size 640x480 with 1 Axes>"
      ]
     },
     "metadata": {},
     "output_type": "display_data"
    }
   ],
   "source": [
    "sns.lineplot(examen_majo, x = 'TS' , y = 'Value')"
   ]
  },
  {
   "cell_type": "code",
   "execution_count": 52,
   "metadata": {},
   "outputs": [],
   "source": [
    "def leer_datos(archivo, columna):\n",
    "    \"\"\"\n",
    "    Esta función lee un csv y convierte la columna TS en formato datetime.\n",
    "    \n",
    "    Argumentos:\n",
    "    archivo: Nombre del archivo csv.\n",
    "    columna: Nombre de la columna con fecha\n",
    "    \n",
    "    Returns:\n",
    "    Un DataFrame con la columna de fecha convertida en formato datetime\n",
    "    \"\"\"\n",
    "    df = pd.read_csv(archivo)\n",
    "    df[columna] = pd.to_datetime(df[columna])\n",
    "    return df"
   ]
  },
  {
   "cell_type": "code",
   "execution_count": 57,
   "metadata": {},
   "outputs": [
    {
     "data": {
      "text/html": [
       "<div>\n",
       "<style scoped>\n",
       "    .dataframe tbody tr th:only-of-type {\n",
       "        vertical-align: middle;\n",
       "    }\n",
       "\n",
       "    .dataframe tbody tr th {\n",
       "        vertical-align: top;\n",
       "    }\n",
       "\n",
       "    .dataframe thead th {\n",
       "        text-align: right;\n",
       "    }\n",
       "</style>\n",
       "<table border=\"1\" class=\"dataframe\">\n",
       "  <thead>\n",
       "    <tr style=\"text-align: right;\">\n",
       "      <th></th>\n",
       "      <th>TS</th>\n",
       "      <th>Tag</th>\n",
       "      <th>Value</th>\n",
       "    </tr>\n",
       "  </thead>\n",
       "  <tbody>\n",
       "    <tr>\n",
       "      <th>0</th>\n",
       "      <td>2024-01-01</td>\n",
       "      <td>Examen_Nimrod</td>\n",
       "      <td>67.353493</td>\n",
       "    </tr>\n",
       "    <tr>\n",
       "      <th>1</th>\n",
       "      <td>2024-01-01</td>\n",
       "      <td>Examen_Luis</td>\n",
       "      <td>3.222802</td>\n",
       "    </tr>\n",
       "    <tr>\n",
       "      <th>2</th>\n",
       "      <td>2024-01-01</td>\n",
       "      <td>Examen_MariaJose</td>\n",
       "      <td>74.931149</td>\n",
       "    </tr>\n",
       "    <tr>\n",
       "      <th>3</th>\n",
       "      <td>2024-01-01</td>\n",
       "      <td>Examen_Nicolas</td>\n",
       "      <td>51.593694</td>\n",
       "    </tr>\n",
       "    <tr>\n",
       "      <th>4</th>\n",
       "      <td>2024-01-01</td>\n",
       "      <td>Examen_Kailei</td>\n",
       "      <td>52.420169</td>\n",
       "    </tr>\n",
       "    <tr>\n",
       "      <th>...</th>\n",
       "      <td>...</td>\n",
       "      <td>...</td>\n",
       "      <td>...</td>\n",
       "    </tr>\n",
       "    <tr>\n",
       "      <th>995</th>\n",
       "      <td>2024-02-28</td>\n",
       "      <td>Examen_Kenya</td>\n",
       "      <td>39.129698</td>\n",
       "    </tr>\n",
       "    <tr>\n",
       "      <th>996</th>\n",
       "      <td>2024-02-28</td>\n",
       "      <td>Examen_Miguel</td>\n",
       "      <td>63.217950</td>\n",
       "    </tr>\n",
       "    <tr>\n",
       "      <th>997</th>\n",
       "      <td>2024-02-28</td>\n",
       "      <td>Examen_Claudia</td>\n",
       "      <td>79.964536</td>\n",
       "    </tr>\n",
       "    <tr>\n",
       "      <th>998</th>\n",
       "      <td>2024-02-28</td>\n",
       "      <td>Examen_Ana</td>\n",
       "      <td>41.243360</td>\n",
       "    </tr>\n",
       "    <tr>\n",
       "      <th>999</th>\n",
       "      <td>2024-02-28</td>\n",
       "      <td>Examen_Daniel</td>\n",
       "      <td>41.925259</td>\n",
       "    </tr>\n",
       "  </tbody>\n",
       "</table>\n",
       "<p>1000 rows × 3 columns</p>\n",
       "</div>"
      ],
      "text/plain": [
       "            TS               Tag      Value\n",
       "0   2024-01-01     Examen_Nimrod  67.353493\n",
       "1   2024-01-01       Examen_Luis   3.222802\n",
       "2   2024-01-01  Examen_MariaJose  74.931149\n",
       "3   2024-01-01    Examen_Nicolas  51.593694\n",
       "4   2024-01-01     Examen_Kailei  52.420169\n",
       "..         ...               ...        ...\n",
       "995 2024-02-28      Examen_Kenya  39.129698\n",
       "996 2024-02-28     Examen_Miguel  63.217950\n",
       "997 2024-02-28    Examen_Claudia  79.964536\n",
       "998 2024-02-28        Examen_Ana  41.243360\n",
       "999 2024-02-28     Examen_Daniel  41.925259\n",
       "\n",
       "[1000 rows x 3 columns]"
      ]
     },
     "execution_count": 57,
     "metadata": {},
     "output_type": "execute_result"
    }
   ],
   "source": [
    "leer_datos('../data/datos_examen.csv','TS')"
   ]
  },
  {
   "cell_type": "code",
   "execution_count": 58,
   "metadata": {},
   "outputs": [],
   "source": [
    "def filtrar_calcular_media(df,column_name, nombre):\n",
    "    \"\"\"\n",
    "    Esta función filtra los datos de la columna Tag para un nombre determinado usando formato \"Examen_NOMBRE_ALUMNO\" \n",
    "    y calculará el promedio\n",
    "    \n",
    "    Argumentos:\n",
    "    df: DataFrame con datos\n",
    "    nombre: Nombre que se desea filtrar\n",
    "    \n",
    "    Returns:\n",
    "    Un DataFrame aplicando un filtro a la columna Tag visualizando un nombre en especifico y su media\n",
    "    \"\"\"\n",
    "    data_alumno = df[df[column_name] == 'Examen_' + nombre]\n",
    "    media = data_alumno['Value'].mean()\n",
    "\n",
    "    return media\n",
    "\n"
   ]
  },
  {
   "cell_type": "code",
   "execution_count": 59,
   "metadata": {},
   "outputs": [
    {
     "data": {
      "text/plain": [
       "48.526734823998495"
      ]
     },
     "execution_count": 59,
     "metadata": {},
     "output_type": "execute_result"
    }
   ],
   "source": [
    "filtrar_calcular_media(data,'Tag', 'MariaJose')"
   ]
  }
 ],
 "metadata": {
  "kernelspec": {
   "display_name": "examen_evaluacion-env",
   "language": "python",
   "name": "python3"
  },
  "language_info": {
   "codemirror_mode": {
    "name": "ipython",
    "version": 3
   },
   "file_extension": ".py",
   "mimetype": "text/x-python",
   "name": "python",
   "nbconvert_exporter": "python",
   "pygments_lexer": "ipython3",
   "version": "3.11.5"
  }
 },
 "nbformat": 4,
 "nbformat_minor": 2
}
